{
 "cells": [
  {
   "cell_type": "code",
   "execution_count": null,
   "metadata": {},
   "outputs": [],
   "source": [
    "#Load popular libraries\n",
    "\n",
    "from nltk.tokenize import sent_tokenize\n",
    "from nltk.tokenize import word_tokenize\n",
    "from nltk.probability import FreqDist\n",
    "from nltk.corpus import stopwords\n",
    "from nltk.tag import pos_tag\n",
    "from textblob import TextBlob\n",
    "import json\n",
    "\n",
    "with open('words.json', 'r') as fp:\n",
    "    chapters =  json.load(fp)\n",
    "with open('chapters.json', 'r') as fp:\n",
    "    chapters =  json.load(fp)\n",
    "with open('chapters.json', 'r') as fp:\n",
    "    chapters =  json.load(fp)\n",
    "with open('chapters.json', 'r') as fp:\n",
    "    chapters =  json.load(fp)\n"
   ]
  }
 ],
 "metadata": {
  "kernelspec": {
   "display_name": "Python 3",
   "language": "python",
   "name": "python3"
  },
  "language_info": {
   "codemirror_mode": {
    "name": "ipython",
    "version": 3
   },
   "file_extension": ".py",
   "mimetype": "text/x-python",
   "name": "python",
   "nbconvert_exporter": "python",
   "pygments_lexer": "ipython3",
   "version": "3.7.6"
  }
 },
 "nbformat": 4,
 "nbformat_minor": 4
}
